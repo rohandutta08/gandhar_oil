{
 "cells": [
  {
   "cell_type": "code",
   "execution_count": 13,
   "id": "d9cc90d4",
   "metadata": {},
   "outputs": [],
   "source": [
    "import polars as pl\n",
    "import os\n",
    "from typing import Dict\n",
    "current_path = \"/Users/febinsathar/codebase/integration-transformation-layer/kandui\"\n"
   ]
  },
  {
   "cell_type": "code",
   "execution_count": 2,
   "id": "30f06b8d",
   "metadata": {},
   "outputs": [
    {
     "name": "stdout",
     "output_type": "stream",
     "text": [
      "init logger\n",
      "init InProcessBatch\n"
     ]
    }
   ],
   "source": [
    "from framework.business.compare.config.dto import TemplateRunTime,AggregationOperator\n",
    "from framework import TemplateType\n",
    "from framework.business.compare.config import  get_template_config_loader"
   ]
  },
  {
   "cell_type": "code",
   "execution_count": 3,
   "id": "4aa93989",
   "metadata": {},
   "outputs": [],
   "source": [
    "def check_file_existence(self, file_description):\n",
    "    file_exists = os.path.exists(self)\n",
    "    if file_exists:\n",
    "        print(f'Found {file_description}')\n",
    "        return file_exists, self\n",
    "    else:\n",
    "        print(f'{file_description} is missing')\n",
    "        return file_exists, None"
   ]
  },
  {
   "cell_type": "code",
   "execution_count": 4,
   "id": "f54177d3",
   "metadata": {},
   "outputs": [],
   "source": [
    "template_run_time = TemplateRunTime()"
   ]
  },
  {
   "cell_type": "code",
   "execution_count": 5,
   "id": "fb4e9be2",
   "metadata": {},
   "outputs": [],
   "source": [
    "template_run_time.config = get_template_config_loader(TemplateType.PURCHASE)"
   ]
  },
  {
   "cell_type": "code",
   "execution_count": 6,
   "id": "22dbc462",
   "metadata": {},
   "outputs": [
    {
     "name": "stdout",
     "output_type": "stream",
     "text": [
      "Found customer-pr.csv\n",
      "Found purchase_register.csv\n"
     ]
    }
   ],
   "source": [
    "paths = template_run_time.config.get_file_path()\n",
    "template_run_time.valid, template_run_time.customer_path = check_file_existence(\n",
    "    os.path.join(current_path, f'input/{paths.customer_file}'), paths.customer_file)\n",
    "\n",
    "if template_run_time.valid:\n",
    "    template_run_time.valid, template_run_time.elt_output_path = check_file_existence(\n",
    "        os.path.join(current_path, f'output/{paths.elt_output_file}'), paths.elt_output_file)\n",
    "    template_run_time.output_path = os.path.join(current_path, f'output/{paths.output_file}')\n",
    "else:\n",
    "    logger.error(\"customer_file missing\")"
   ]
  },
  {
   "cell_type": "code",
   "execution_count": 7,
   "id": "92622285",
   "metadata": {},
   "outputs": [],
   "source": [
    "df_customer = pl.read_csv(template_run_time.customer_path)\n",
    "df_output = pl.read_csv(template_run_time.elt_output_path)"
   ]
  },
  {
   "cell_type": "code",
   "execution_count": 8,
   "id": "d69d2628",
   "metadata": {},
   "outputs": [],
   "source": [
    "template_config = template_run_time.config"
   ]
  },
  {
   "cell_type": "code",
   "execution_count": 14,
   "id": "58bc16e5",
   "metadata": {},
   "outputs": [],
   "source": [
    "def roll_up_to_doc_level(df_customer: pl.dataframe, df_output: pl.dataframe,\n",
    "                         doc_level_aggregator: Dict[str, AggregationOperator]):\n",
    "    agg_expr = []\n",
    "    for col, agg_func in doc_level_aggregator.items():\n",
    "        if agg_func == AggregationOperator.SUM:\n",
    "            agg_expr.append(pl.col(col).sum().alias(col))\n",
    "        elif agg_func == AggregationOperator.FIRST:\n",
    "            agg_expr.append(pl.col(col).first().alias(col))\n",
    "    df_output_doc_level = df_output.group_by(\"Composite_Key\").agg(agg_expr)\n",
    "    df_customer_doc_level = df_customer.group_by(\"Composite_Key\").agg(agg_expr)\n",
    "    return df_output_doc_level, df_customer_doc_level"
   ]
  },
  {
   "cell_type": "code",
   "execution_count": 15,
   "id": "8dffac13",
   "metadata": {},
   "outputs": [],
   "source": [
    "composite_key_columns = template_config.composite_keys()\n",
    "composite_key_expr = pl.concat_str(\n",
    "    [pl.col(col).fill_null(\"\").cast(pl.Utf8) for col in composite_key_columns]\n",
    ")\n",
    "df_customer = df_customer.with_columns(composite_key_expr.alias(\"Composite_Key\"))\n",
    "df_output = df_output.with_columns(composite_key_expr.alias(\"Composite_Key\"))\n",
    "df_output_doc_level, df_customer_doc_level = roll_up_to_doc_level(df_customer, df_output,\n",
    "                                                                  template_config.doc_level_aggregator())\n",
    "\n",
    "df_customer_doc_level = df_customer_doc_level.with_columns(pl.col(\"Composite_Key\").alias(\"Composite_Key_Cus\"))\n",
    "df_output_doc_level = df_output_doc_level.with_columns(pl.col(\"Composite_Key\").alias(\"Composite_Key_Out\"))\n"
   ]
  },
  {
   "cell_type": "code",
   "execution_count": 17,
   "id": "583ab41f",
   "metadata": {},
   "outputs": [
    {
     "data": {
      "text/html": [
       "<div><style>\n",
       ".dataframe > thead > tr > th,\n",
       ".dataframe > tbody > tr > td {\n",
       "  text-align: right;\n",
       "  white-space: pre-wrap;\n",
       "}\n",
       "</style>\n",
       "<small>shape: (3_729, 6)</small><table border=\"1\" class=\"dataframe\"><thead><tr><th>Composite_Key</th><th>Voucher Number</th><th>My GSTIN</th><th>Supplier GSTIN</th><th>Item Taxable Value *</th><th>Composite_Key_Out</th></tr><tr><td>str</td><td>i64</td><td>str</td><td>str</td><td>f64</td><td>str</td></tr></thead><tbody><tr><td>&quot;423540002226AA…</td><td>4235400022</td><td>&quot;26AADCK8554D1Z…</td><td>null</td><td>6175.0</td><td>&quot;423540002226AA…</td></tr><tr><td>&quot;423120013626AA…</td><td>4231200136</td><td>&quot;26AADCK8554D1Z…</td><td>&quot;24AAVFR2508P1Z…</td><td>10015.71</td><td>&quot;423120013626AA…</td></tr><tr><td>&quot;423120027026AA…</td><td>4231200270</td><td>&quot;26AADCK8554D1Z…</td><td>&quot;24AKHPC3335R1Z…</td><td>520.0</td><td>&quot;423120027026AA…</td></tr><tr><td>&quot;423110003726AA…</td><td>4231100037</td><td>&quot;26AADCK8554D1Z…</td><td>&quot;27AAAFQ4771C1Z…</td><td>16200.0</td><td>&quot;423110003726AA…</td></tr><tr><td>&quot;423250001626AA…</td><td>4232500016</td><td>&quot;26AADCK8554D1Z…</td><td>&quot;27AABCG0609F1Z…</td><td>28398.16</td><td>&quot;423250001626AA…</td></tr><tr><td>&quot;423250010026AA…</td><td>4232500100</td><td>&quot;26AADCK8554D1Z…</td><td>&quot;27AAACU1299G1Z…</td><td>1700.0</td><td>&quot;423250010026AA…</td></tr><tr><td>&quot;423140001926AA…</td><td>4231400019</td><td>&quot;26AADCK8554D1Z…</td><td>&quot;24DRFPS7605C1Z…</td><td>48900.0</td><td>&quot;423140001926AA…</td></tr><tr><td>&quot;423110031726AA…</td><td>4231100317</td><td>&quot;26AADCK8554D1Z…</td><td>&quot;24AUAPA4309A1Z…</td><td>1.65495e6</td><td>&quot;423110031726AA…</td></tr><tr><td>&quot;423110056326AA…</td><td>4231100563</td><td>&quot;26AADCK8554D1Z…</td><td>&quot;27AAHCA8513A1Z…</td><td>1.62525e6</td><td>&quot;423110056326AA…</td></tr><tr><td>&quot;423110066126AA…</td><td>4231100661</td><td>&quot;26AADCK8554D1Z…</td><td>&quot;26AAAFR0197D1Z…</td><td>1.8224e6</td><td>&quot;423110066126AA…</td></tr><tr><td>&quot;423250006326AA…</td><td>4232500063</td><td>&quot;26AADCK8554D1Z…</td><td>&quot;27AACCD3848A1Z…</td><td>50250.28</td><td>&quot;423250006326AA…</td></tr><tr><td>&quot;423910001826AA…</td><td>4239100018</td><td>&quot;26AADCK8554D1Z…</td><td>&quot;24AEIPR4124E1Z…</td><td>6500.0</td><td>&quot;423910001826AA…</td></tr><tr><td>&hellip;</td><td>&hellip;</td><td>&hellip;</td><td>&hellip;</td><td>&hellip;</td><td>&hellip;</td></tr><tr><td>&quot;423240005826AA…</td><td>4232400058</td><td>&quot;26AADCK8554D1Z…</td><td>null</td><td>3350.0</td><td>&quot;423240005826AA…</td></tr><tr><td>&quot;423910013826AA…</td><td>4239100138</td><td>&quot;26AADCK8554D1Z…</td><td>&quot;26AAEFR6226M1Z…</td><td>2125.0</td><td>&quot;423910013826AA…</td></tr><tr><td>&quot;423140002826AA…</td><td>4231400028</td><td>&quot;26AADCK8554D1Z…</td><td>null</td><td>8850.0</td><td>&quot;423140002826AA…</td></tr><tr><td>&quot;923000010527AA…</td><td>9230000105</td><td>&quot;27AADCK8554D4Z…</td><td>&quot;27AAACC4479Q2Z…</td><td>423088.75</td><td>&quot;923000010527AA…</td></tr><tr><td>&quot;423110067726AA…</td><td>4231100677</td><td>&quot;26AADCK8554D1Z…</td><td>&quot;27AACFK3418L1Z…</td><td>2.2e6</td><td>&quot;423110067726AA…</td></tr><tr><td>&quot;423210047326AA…</td><td>4232100473</td><td>&quot;26AADCK8554D1Z…</td><td>&quot;05ABFCS1043J1Z…</td><td>330000.0</td><td>&quot;423210047326AA…</td></tr><tr><td>&quot;423220016926AA…</td><td>4232200169</td><td>&quot;26AADCK8554D1Z…</td><td>&quot;24AAHFR1656G1Z…</td><td>18480.0</td><td>&quot;423220016926AA…</td></tr><tr><td>&quot;423291000226AA…</td><td>4232910002</td><td>&quot;26AADCK8554D1Z…</td><td>&quot;24ANKPP1985C1Z…</td><td>13741.0</td><td>&quot;423291000226AA…</td></tr><tr><td>&quot;423140025026AA…</td><td>4231400250</td><td>&quot;26AADCK8554D1Z…</td><td>&quot;29AAPFB4767N2Z…</td><td>1150.0</td><td>&quot;423140025026AA…</td></tr><tr><td>&quot;423120032126AA…</td><td>4231200321</td><td>&quot;26AADCK8554D1Z…</td><td>&quot;24AACCN5965G1Z…</td><td>13377.0</td><td>&quot;423120032126AA…</td></tr><tr><td>&quot;423140026226AA…</td><td>4231400262</td><td>&quot;26AADCK8554D1Z…</td><td>null</td><td>8050.0</td><td>&quot;423140026226AA…</td></tr><tr><td>&quot;423150004226AA…</td><td>4231500042</td><td>&quot;26AADCK8554D1Z…</td><td>&quot;24AAECB3981A1Z…</td><td>27850.0</td><td>&quot;423150004226AA…</td></tr></tbody></table></div>"
      ],
      "text/plain": [
       "shape: (3_729, 6)\n",
       "┌─────────────────┬────────────┬────────────────┬────────────────┬────────────────┬────────────────┐\n",
       "│ Composite_Key   ┆ Voucher    ┆ My GSTIN       ┆ Supplier GSTIN ┆ Item Taxable   ┆ Composite_Key_ │\n",
       "│ ---             ┆ Number     ┆ ---            ┆ ---            ┆ Value *        ┆ Out            │\n",
       "│ str             ┆ ---        ┆ str            ┆ str            ┆ ---            ┆ ---            │\n",
       "│                 ┆ i64        ┆                ┆                ┆ f64            ┆ str            │\n",
       "╞═════════════════╪════════════╪════════════════╪════════════════╪════════════════╪════════════════╡\n",
       "│ 423540002226AAD ┆ 4235400022 ┆ 26AADCK8554D1Z ┆ null           ┆ 6175.0         ┆ 423540002226AA │\n",
       "│ CK8554D1ZI      ┆            ┆ I              ┆                ┆                ┆ DCK8554D1ZI    │\n",
       "│ 423120013626AAD ┆ 4231200136 ┆ 26AADCK8554D1Z ┆ 24AAVFR2508P1Z ┆ 10015.71       ┆ 423120013626AA │\n",
       "│ CK8554D1ZI24AAV ┆            ┆ I              ┆ K              ┆                ┆ DCK8554D1ZI24A │\n",
       "│ FR…             ┆            ┆                ┆                ┆                ┆ AVFR…          │\n",
       "│ 423120027026AAD ┆ 4231200270 ┆ 26AADCK8554D1Z ┆ 24AKHPC3335R1Z ┆ 520.0          ┆ 423120027026AA │\n",
       "│ CK8554D1ZI24AKH ┆            ┆ I              ┆ 0              ┆                ┆ DCK8554D1ZI24A │\n",
       "│ PC…             ┆            ┆                ┆                ┆                ┆ KHPC…          │\n",
       "│ 423110003726AAD ┆ 4231100037 ┆ 26AADCK8554D1Z ┆ 27AAAFQ4771C1Z ┆ 16200.0        ┆ 423110003726AA │\n",
       "│ CK8554D1ZI27AAA ┆            ┆ I              ┆ E              ┆                ┆ DCK8554D1ZI27A │\n",
       "│ FQ…             ┆            ┆                ┆                ┆                ┆ AAFQ…          │\n",
       "│ …               ┆ …          ┆ …              ┆ …              ┆ …              ┆ …              │\n",
       "│ 423140025026AAD ┆ 4231400250 ┆ 26AADCK8554D1Z ┆ 29AAPFB4767N2Z ┆ 1150.0         ┆ 423140025026AA │\n",
       "│ CK8554D1ZI29AAP ┆            ┆ I              ┆ I              ┆                ┆ DCK8554D1ZI29A │\n",
       "│ FB…             ┆            ┆                ┆                ┆                ┆ APFB…          │\n",
       "│ 423120032126AAD ┆ 4231200321 ┆ 26AADCK8554D1Z ┆ 24AACCN5965G1Z ┆ 13377.0        ┆ 423120032126AA │\n",
       "│ CK8554D1ZI24AAC ┆            ┆ I              ┆ D              ┆                ┆ DCK8554D1ZI24A │\n",
       "│ CN…             ┆            ┆                ┆                ┆                ┆ ACCN…          │\n",
       "│ 423140026226AAD ┆ 4231400262 ┆ 26AADCK8554D1Z ┆ null           ┆ 8050.0         ┆ 423140026226AA │\n",
       "│ CK8554D1ZI      ┆            ┆ I              ┆                ┆                ┆ DCK8554D1ZI    │\n",
       "│ 423150004226AAD ┆ 4231500042 ┆ 26AADCK8554D1Z ┆ 24AAECB3981A1Z ┆ 27850.0        ┆ 423150004226AA │\n",
       "│ CK8554D1ZI24AAE ┆            ┆ I              ┆ 3              ┆                ┆ DCK8554D1ZI24A │\n",
       "│ CB…             ┆            ┆                ┆                ┆                ┆ AECB…          │\n",
       "└─────────────────┴────────────┴────────────────┴────────────────┴────────────────┴────────────────┘"
      ]
     },
     "execution_count": 17,
     "metadata": {},
     "output_type": "execute_result"
    }
   ],
   "source": [
    "df_output_doc_level"
   ]
  },
  {
   "cell_type": "code",
   "execution_count": 18,
   "id": "e841a219",
   "metadata": {},
   "outputs": [],
   "source": [
    "joined_df = df_output_doc_level.join(\n",
    "    df_customer_doc_level,\n",
    "    on=\"Composite_Key\",\n",
    "    how=\"outer\",\n",
    "    suffix=\"_cus\"\n",
    ")"
   ]
  },
  {
   "cell_type": "code",
   "execution_count": 19,
   "id": "10bb2d4a",
   "metadata": {},
   "outputs": [
    {
     "data": {
      "text/html": [
       "<div><style>\n",
       ".dataframe > thead > tr > th,\n",
       ".dataframe > tbody > tr > td {\n",
       "  text-align: right;\n",
       "  white-space: pre-wrap;\n",
       "}\n",
       "</style>\n",
       "<small>shape: (3_729, 11)</small><table border=\"1\" class=\"dataframe\"><thead><tr><th>Composite_Key</th><th>Voucher Number</th><th>My GSTIN</th><th>Supplier GSTIN</th><th>Item Taxable Value *</th><th>Composite_Key_Out</th><th>Voucher Number_cus</th><th>My GSTIN_cus</th><th>Supplier GSTIN_cus</th><th>Item Taxable Value *_cus</th><th>Composite_Key_Cus</th></tr><tr><td>str</td><td>i64</td><td>str</td><td>str</td><td>f64</td><td>str</td><td>i64</td><td>str</td><td>str</td><td>f64</td><td>str</td></tr></thead><tbody><tr><td>&quot;423110034326AA…</td><td>4231100343</td><td>&quot;26AADCK8554D1Z…</td><td>&quot;27AACFE0874A1Z…</td><td>179200.0</td><td>&quot;423110034326AA…</td><td>4231100343</td><td>&quot;26AADCK8554D1Z…</td><td>&quot;27AACFE0874A1Z…</td><td>179200.0</td><td>&quot;423110034326AA…</td></tr><tr><td>&quot;423920004926AA…</td><td>4239200049</td><td>&quot;26AADCK8554D1Z…</td><td>null</td><td>6000.0</td><td>&quot;423920004926AA…</td><td>4239200049</td><td>&quot;26AADCK8554D1Z…</td><td>null</td><td>6000.0</td><td>&quot;423920004926AA…</td></tr><tr><td>&quot;423140000126AA…</td><td>4231400001</td><td>&quot;26AADCK8554D1Z…</td><td>&quot;29AAPFB4767N2Z…</td><td>1150.0</td><td>&quot;423140000126AA…</td><td>4231400001</td><td>&quot;26AADCK8554D1Z…</td><td>&quot;29AAPFB4767N2Z…</td><td>1150.0</td><td>&quot;423140000126AA…</td></tr><tr><td>&quot;423110039126AA…</td><td>4231100391</td><td>&quot;26AADCK8554D1Z…</td><td>&quot;24AAACB3333J1Z…</td><td>1.33e6</td><td>&quot;423110039126AA…</td><td>4231100391</td><td>&quot;26AADCK8554D1Z…</td><td>&quot;24AAACB3333J1Z…</td><td>1.33e6</td><td>&quot;423110039126AA…</td></tr><tr><td>&quot;623460007727AA…</td><td>6234600077</td><td>&quot;27AADCK8554D4Z…</td><td>null</td><td>24320.0</td><td>&quot;623460007727AA…</td><td>6234600077</td><td>&quot;27AADCK8554D4Z…</td><td>null</td><td>24320.0</td><td>&quot;623460007727AA…</td></tr><tr><td>&quot;423220012026AA…</td><td>4232200120</td><td>&quot;26AADCK8554D1Z…</td><td>&quot;24AAVFR2508P1Z…</td><td>32214.0</td><td>&quot;423220012026AA…</td><td>4232200120</td><td>&quot;26AADCK8554D1Z…</td><td>&quot;24AAVFR2508P1Z…</td><td>32214.0</td><td>&quot;423220012026AA…</td></tr><tr><td>&quot;423180001426AA…</td><td>4231800014</td><td>&quot;26AADCK8554D1Z…</td><td>&quot;24AHPPM8600A1Z…</td><td>1179.0</td><td>&quot;423180001426AA…</td><td>4231800014</td><td>&quot;26AADCK8554D1Z…</td><td>&quot;24AHPPM8600A1Z…</td><td>1179.0</td><td>&quot;423180001426AA…</td></tr><tr><td>&quot;423250004426AA…</td><td>4232500044</td><td>&quot;26AADCK8554D1Z…</td><td>&quot;27AAACU1299G1Z…</td><td>2370.0</td><td>&quot;423250004426AA…</td><td>4232500044</td><td>&quot;26AADCK8554D1Z…</td><td>&quot;27AAACU1299G1Z…</td><td>2370.0</td><td>&quot;423250004426AA…</td></tr><tr><td>&quot;423110015726AA…</td><td>4231100157</td><td>&quot;26AADCK8554D1Z…</td><td>&quot;27AACCL2337A1Z…</td><td>168300.0</td><td>&quot;423110015726AA…</td><td>4231100157</td><td>&quot;26AADCK8554D1Z…</td><td>&quot;27AACCL2337A1Z…</td><td>168300.0</td><td>&quot;423110015726AA…</td></tr><tr><td>&quot;423110013226AA…</td><td>4231100132</td><td>&quot;26AADCK8554D1Z…</td><td>&quot;27AACFB5316Q1Z…</td><td>146625.0</td><td>&quot;423110013226AA…</td><td>4231100132</td><td>&quot;26AADCK8554D1Z…</td><td>&quot;27AACFB5316Q1Z…</td><td>146625.0</td><td>&quot;423110013226AA…</td></tr><tr><td>&quot;423240015626AA…</td><td>4232400156</td><td>&quot;26AADCK8554D1Z…</td><td>&quot;24AAFCS1371Q1Z…</td><td>39500.0</td><td>&quot;423240015626AA…</td><td>4232400156</td><td>&quot;26AADCK8554D1Z…</td><td>&quot;24AAFCS1371Q1Z…</td><td>39500.0</td><td>&quot;423240015626AA…</td></tr><tr><td>&quot;423250012626AA…</td><td>4232500126</td><td>&quot;26AADCK8554D1Z…</td><td>&quot;27AABCG0609F1Z…</td><td>13709.94</td><td>&quot;423250012626AA…</td><td>4232500126</td><td>&quot;26AADCK8554D1Z…</td><td>&quot;27AABCG0609F1Z…</td><td>13709.94</td><td>&quot;423250012626AA…</td></tr><tr><td>&hellip;</td><td>&hellip;</td><td>&hellip;</td><td>&hellip;</td><td>&hellip;</td><td>&hellip;</td><td>&hellip;</td><td>&hellip;</td><td>&hellip;</td><td>&hellip;</td><td>&hellip;</td></tr><tr><td>&quot;423210050026AA…</td><td>4232100500</td><td>&quot;26AADCK8554D1Z…</td><td>&quot;24AAACO7164N1Z…</td><td>297000.0</td><td>&quot;423210050026AA…</td><td>4232100500</td><td>&quot;26AADCK8554D1Z…</td><td>&quot;24AAACO7164N1Z…</td><td>297000.0</td><td>&quot;423210050026AA…</td></tr><tr><td>&quot;423440003526AA…</td><td>4234400035</td><td>&quot;26AADCK8554D1Z…</td><td>&quot;26AFSPB1470J3Z…</td><td>3250.0</td><td>&quot;423440003526AA…</td><td>4234400035</td><td>&quot;26AADCK8554D1Z…</td><td>&quot;26AFSPB1470J3Z…</td><td>3250.0</td><td>&quot;423440003526AA…</td></tr><tr><td>&quot;423210023026AA…</td><td>4232100230</td><td>&quot;26AADCK8554D1Z…</td><td>&quot;24AFKPS1709R2Z…</td><td>162500.0</td><td>&quot;423210023026AA…</td><td>4232100230</td><td>&quot;26AADCK8554D1Z…</td><td>&quot;24AFKPS1709R2Z…</td><td>162500.0</td><td>&quot;423210023026AA…</td></tr><tr><td>&quot;423220013226AA…</td><td>4232200132</td><td>&quot;26AADCK8554D1Z…</td><td>&quot;26BFKPR0352G1Z…</td><td>220.0</td><td>&quot;423220013226AA…</td><td>4232200132</td><td>&quot;26AADCK8554D1Z…</td><td>&quot;26BFKPR0352G1Z…</td><td>220.0</td><td>&quot;423220013226AA…</td></tr><tr><td>&quot;423210049726AA…</td><td>4232100497</td><td>&quot;26AADCK8554D1Z…</td><td>&quot;05ABFCS1043J1Z…</td><td>330000.0</td><td>&quot;423210049726AA…</td><td>4232100497</td><td>&quot;26AADCK8554D1Z…</td><td>&quot;05ABFCS1043J1Z…</td><td>330000.0</td><td>&quot;423210049726AA…</td></tr><tr><td>&quot;423240017026AA…</td><td>4232400170</td><td>&quot;26AADCK8554D1Z…</td><td>&quot;24ABAPC1604P2Z…</td><td>8450.0</td><td>&quot;423240017026AA…</td><td>4232400170</td><td>&quot;26AADCK8554D1Z…</td><td>&quot;24ABAPC1604P2Z…</td><td>8450.0</td><td>&quot;423240017026AA…</td></tr><tr><td>&quot;423920008126AA…</td><td>4239200081</td><td>&quot;26AADCK8554D1Z…</td><td>&quot;26BJNPP5510M1Z…</td><td>3300.0</td><td>&quot;423920008126AA…</td><td>4239200081</td><td>&quot;26AADCK8554D1Z…</td><td>&quot;26BJNPP5510M1Z…</td><td>3300.0</td><td>&quot;423920008126AA…</td></tr><tr><td>&quot;423210041326AA…</td><td>4232100413</td><td>&quot;26AADCK8554D1Z…</td><td>&quot;24AANCM0310K1Z…</td><td>196250.0</td><td>&quot;423210041326AA…</td><td>4232100413</td><td>&quot;26AADCK8554D1Z…</td><td>&quot;24AANCM0310K1Z…</td><td>196250.0</td><td>&quot;423210041326AA…</td></tr><tr><td>&quot;423180000226AA…</td><td>4231800002</td><td>&quot;26AADCK8554D1Z…</td><td>&quot;27AABCD3611Q1Z…</td><td>984.0</td><td>&quot;423180000226AA…</td><td>4231800002</td><td>&quot;26AADCK8554D1Z…</td><td>&quot;27AABCD3611Q1Z…</td><td>984.0</td><td>&quot;423180000226AA…</td></tr><tr><td>&quot;423140028326AA…</td><td>4231400283</td><td>&quot;26AADCK8554D1Z…</td><td>null</td><td>4900.0</td><td>&quot;423140028326AA…</td><td>4231400283</td><td>&quot;26AADCK8554D1Z…</td><td>null</td><td>4900.0</td><td>&quot;423140028326AA…</td></tr><tr><td>&quot;423110037726AA…</td><td>4231100377</td><td>&quot;26AADCK8554D1Z…</td><td>&quot;27AAAFB0982G1Z…</td><td>66000.0</td><td>&quot;423110037726AA…</td><td>4231100377</td><td>&quot;26AADCK8554D1Z…</td><td>&quot;27AAAFB0982G1Z…</td><td>66000.0</td><td>&quot;423110037726AA…</td></tr><tr><td>&quot;423440001826AA…</td><td>4234400018</td><td>&quot;26AADCK8554D1Z…</td><td>&quot;27AQSPP9603L2Z…</td><td>5045.0</td><td>&quot;423440001826AA…</td><td>4234400018</td><td>&quot;26AADCK8554D1Z…</td><td>&quot;27AQSPP9603L2Z…</td><td>5045.0</td><td>&quot;423440001826AA…</td></tr></tbody></table></div>"
      ],
      "text/plain": [
       "shape: (3_729, 11)\n",
       "┌───────────┬───────────┬───────────┬───────────┬───┬───────────┬───────────┬───────────┬──────────┐\n",
       "│ Composite ┆ Voucher   ┆ My GSTIN  ┆ Supplier  ┆ … ┆ My        ┆ Supplier  ┆ Item      ┆ Composit │\n",
       "│ _Key      ┆ Number    ┆ ---       ┆ GSTIN     ┆   ┆ GSTIN_cus ┆ GSTIN_cus ┆ Taxable   ┆ e_Key_Cu │\n",
       "│ ---       ┆ ---       ┆ str       ┆ ---       ┆   ┆ ---       ┆ ---       ┆ Value     ┆ s        │\n",
       "│ str       ┆ i64       ┆           ┆ str       ┆   ┆ str       ┆ str       ┆ *_cus     ┆ ---      │\n",
       "│           ┆           ┆           ┆           ┆   ┆           ┆           ┆ ---       ┆ str      │\n",
       "│           ┆           ┆           ┆           ┆   ┆           ┆           ┆ f64       ┆          │\n",
       "╞═══════════╪═══════════╪═══════════╪═══════════╪═══╪═══════════╪═══════════╪═══════════╪══════════╡\n",
       "│ 423110034 ┆ 423110034 ┆ 26AADCK85 ┆ 27AACFE08 ┆ … ┆ 26AADCK85 ┆ 27AACFE08 ┆ 179200.0  ┆ 42311003 │\n",
       "│ 326AADCK8 ┆ 3         ┆ 54D1ZI    ┆ 74A1ZW    ┆   ┆ 54D1ZI    ┆ 74A1ZW    ┆           ┆ 4326AADC │\n",
       "│ 554D1ZI27 ┆           ┆           ┆           ┆   ┆           ┆           ┆           ┆ K8554D1Z │\n",
       "│ AACFE…    ┆           ┆           ┆           ┆   ┆           ┆           ┆           ┆ I27AACFE │\n",
       "│           ┆           ┆           ┆           ┆   ┆           ┆           ┆           ┆ …        │\n",
       "│ 423920004 ┆ 423920004 ┆ 26AADCK85 ┆ null      ┆ … ┆ 26AADCK85 ┆ null      ┆ 6000.0    ┆ 42392000 │\n",
       "│ 926AADCK8 ┆ 9         ┆ 54D1ZI    ┆           ┆   ┆ 54D1ZI    ┆           ┆           ┆ 4926AADC │\n",
       "│ 554D1ZI   ┆           ┆           ┆           ┆   ┆           ┆           ┆           ┆ K8554D1Z │\n",
       "│           ┆           ┆           ┆           ┆   ┆           ┆           ┆           ┆ I        │\n",
       "│ 423140000 ┆ 423140000 ┆ 26AADCK85 ┆ 29AAPFB47 ┆ … ┆ 26AADCK85 ┆ 29AAPFB47 ┆ 1150.0    ┆ 42314000 │\n",
       "│ 126AADCK8 ┆ 1         ┆ 54D1ZI    ┆ 67N2ZI    ┆   ┆ 54D1ZI    ┆ 67N2ZI    ┆           ┆ 0126AADC │\n",
       "│ 554D1ZI29 ┆           ┆           ┆           ┆   ┆           ┆           ┆           ┆ K8554D1Z │\n",
       "│ AAPFB…    ┆           ┆           ┆           ┆   ┆           ┆           ┆           ┆ I29AAPFB │\n",
       "│           ┆           ┆           ┆           ┆   ┆           ┆           ┆           ┆ …        │\n",
       "│ 423110039 ┆ 423110039 ┆ 26AADCK85 ┆ 24AAACB33 ┆ … ┆ 26AADCK85 ┆ 24AAACB33 ┆ 1.33e6    ┆ 42311003 │\n",
       "│ 126AADCK8 ┆ 1         ┆ 54D1ZI    ┆ 33J1Z2    ┆   ┆ 54D1ZI    ┆ 33J1Z2    ┆           ┆ 9126AADC │\n",
       "│ 554D1ZI24 ┆           ┆           ┆           ┆   ┆           ┆           ┆           ┆ K8554D1Z │\n",
       "│ AAACB…    ┆           ┆           ┆           ┆   ┆           ┆           ┆           ┆ I24AAACB │\n",
       "│           ┆           ┆           ┆           ┆   ┆           ┆           ┆           ┆ …        │\n",
       "│ …         ┆ …         ┆ …         ┆ …         ┆ … ┆ …         ┆ …         ┆ …         ┆ …        │\n",
       "│ 423180000 ┆ 423180000 ┆ 26AADCK85 ┆ 27AABCD36 ┆ … ┆ 26AADCK85 ┆ 27AABCD36 ┆ 984.0     ┆ 42318000 │\n",
       "│ 226AADCK8 ┆ 2         ┆ 54D1ZI    ┆ 11Q1ZI    ┆   ┆ 54D1ZI    ┆ 11Q1ZI    ┆           ┆ 0226AADC │\n",
       "│ 554D1ZI27 ┆           ┆           ┆           ┆   ┆           ┆           ┆           ┆ K8554D1Z │\n",
       "│ AABCD…    ┆           ┆           ┆           ┆   ┆           ┆           ┆           ┆ I27AABCD │\n",
       "│           ┆           ┆           ┆           ┆   ┆           ┆           ┆           ┆ …        │\n",
       "│ 423140028 ┆ 423140028 ┆ 26AADCK85 ┆ null      ┆ … ┆ 26AADCK85 ┆ null      ┆ 4900.0    ┆ 42314002 │\n",
       "│ 326AADCK8 ┆ 3         ┆ 54D1ZI    ┆           ┆   ┆ 54D1ZI    ┆           ┆           ┆ 8326AADC │\n",
       "│ 554D1ZI   ┆           ┆           ┆           ┆   ┆           ┆           ┆           ┆ K8554D1Z │\n",
       "│           ┆           ┆           ┆           ┆   ┆           ┆           ┆           ┆ I        │\n",
       "│ 423110037 ┆ 423110037 ┆ 26AADCK85 ┆ 27AAAFB09 ┆ … ┆ 26AADCK85 ┆ 27AAAFB09 ┆ 66000.0   ┆ 42311003 │\n",
       "│ 726AADCK8 ┆ 7         ┆ 54D1ZI    ┆ 82G1ZO    ┆   ┆ 54D1ZI    ┆ 82G1ZO    ┆           ┆ 7726AADC │\n",
       "│ 554D1ZI27 ┆           ┆           ┆           ┆   ┆           ┆           ┆           ┆ K8554D1Z │\n",
       "│ AAAFB…    ┆           ┆           ┆           ┆   ┆           ┆           ┆           ┆ I27AAAFB │\n",
       "│           ┆           ┆           ┆           ┆   ┆           ┆           ┆           ┆ …        │\n",
       "│ 423440001 ┆ 423440001 ┆ 26AADCK85 ┆ 27AQSPP96 ┆ … ┆ 26AADCK85 ┆ 27AQSPP96 ┆ 5045.0    ┆ 42344000 │\n",
       "│ 826AADCK8 ┆ 8         ┆ 54D1ZI    ┆ 03L2ZY    ┆   ┆ 54D1ZI    ┆ 03L2ZY    ┆           ┆ 1826AADC │\n",
       "│ 554D1ZI27 ┆           ┆           ┆           ┆   ┆           ┆           ┆           ┆ K8554D1Z │\n",
       "│ AQSPP…    ┆           ┆           ┆           ┆   ┆           ┆           ┆           ┆ I27AQSPP │\n",
       "│           ┆           ┆           ┆           ┆   ┆           ┆           ┆           ┆ …        │\n",
       "└───────────┴───────────┴───────────┴───────────┴───┴───────────┴───────────┴───────────┴──────────┘"
      ]
     },
     "execution_count": 19,
     "metadata": {},
     "output_type": "execute_result"
    }
   ],
   "source": [
    "joined_df\n"
   ]
  },
  {
   "cell_type": "code",
   "execution_count": null,
   "id": "1fea8e21",
   "metadata": {},
   "outputs": [],
   "source": []
  }
 ],
 "metadata": {
  "kernelspec": {
   "display_name": "Python 3 (ipykernel)",
   "language": "python",
   "name": "python3"
  },
  "language_info": {
   "codemirror_mode": {
    "name": "ipython",
    "version": 3
   },
   "file_extension": ".py",
   "mimetype": "text/x-python",
   "name": "python",
   "nbconvert_exporter": "python",
   "pygments_lexer": "ipython3",
   "version": "3.9.12"
  }
 },
 "nbformat": 4,
 "nbformat_minor": 5
}
